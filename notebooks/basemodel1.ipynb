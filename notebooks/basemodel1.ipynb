{
 "cells": [
  {
   "cell_type": "code",
   "execution_count": 1,
   "metadata": {},
   "outputs": [],
   "source": [
    "import pandas as pd"
   ]
  },
  {
   "cell_type": "code",
   "execution_count": 2,
   "metadata": {},
   "outputs": [
    {
     "data": {
      "text/html": [
       "<div>\n",
       "<style scoped>\n",
       "    .dataframe tbody tr th:only-of-type {\n",
       "        vertical-align: middle;\n",
       "    }\n",
       "\n",
       "    .dataframe tbody tr th {\n",
       "        vertical-align: top;\n",
       "    }\n",
       "\n",
       "    .dataframe thead th {\n",
       "        text-align: right;\n",
       "    }\n",
       "</style>\n",
       "<table border=\"1\" class=\"dataframe\">\n",
       "  <thead>\n",
       "    <tr style=\"text-align: right;\">\n",
       "      <th></th>\n",
       "      <th>FEN</th>\n",
       "      <th>Evaluation</th>\n",
       "    </tr>\n",
       "  </thead>\n",
       "  <tbody>\n",
       "    <tr>\n",
       "      <th>0</th>\n",
       "      <td>r2q1rk1/pb3pbp/1ppp1np1/2nPp3/4P3/2P1B2P/PPBNN...</td>\n",
       "      <td>16</td>\n",
       "    </tr>\n",
       "    <tr>\n",
       "      <th>1</th>\n",
       "      <td>r7/ppQ1n2p/2n1k1p1/1N1p1q2/1P1P4/2P3P1/P7/2K5 ...</td>\n",
       "      <td>-929</td>\n",
       "    </tr>\n",
       "    <tr>\n",
       "      <th>2</th>\n",
       "      <td>r1bq1rk1/ppp1bppp/2n2n2/3Pp3/2B5/2PP1N1P/PP3PP...</td>\n",
       "      <td>4</td>\n",
       "    </tr>\n",
       "    <tr>\n",
       "      <th>3</th>\n",
       "      <td>6k1/R2b2r1/8/7R/2PPP3/8/7P/5K2 b - - 0 42</td>\n",
       "      <td>546</td>\n",
       "    </tr>\n",
       "    <tr>\n",
       "      <th>4</th>\n",
       "      <td>r4r2/pp4pp/k1nQ1q2/5P2/2B5/8/P5PP/1R3RK1 b - -...</td>\n",
       "      <td>684</td>\n",
       "    </tr>\n",
       "    <tr>\n",
       "      <th>...</th>\n",
       "      <td>...</td>\n",
       "      <td>...</td>\n",
       "    </tr>\n",
       "    <tr>\n",
       "      <th>1980494</th>\n",
       "      <td>rnb1k2r/pp3ppp/4pn2/3pB3/8/P2PqN2/2PKPbPP/RN1Q...</td>\n",
       "      <td>-402</td>\n",
       "    </tr>\n",
       "    <tr>\n",
       "      <th>1980495</th>\n",
       "      <td>6R1/pq1k1p2/1p1pp3/8/8/1P5r/P1PPQP1P/R5K1 w - ...</td>\n",
       "      <td>641</td>\n",
       "    </tr>\n",
       "    <tr>\n",
       "      <th>1980496</th>\n",
       "      <td>1r3rk1/pp4p1/1qn4p/4pp2/8/2NPPNP1/PP1Q1KbP/R7 ...</td>\n",
       "      <td>-357</td>\n",
       "    </tr>\n",
       "    <tr>\n",
       "      <th>1980497</th>\n",
       "      <td>rnb1k1r1/pp3pBp/2pqp1p1/3P4/8/P1N2N2/1PP2PPP/R...</td>\n",
       "      <td>686</td>\n",
       "    </tr>\n",
       "    <tr>\n",
       "      <th>1980498</th>\n",
       "      <td>r1b2k2/6pp/3p4/3P1p2/ppp2P2/7B/4K1PP/4R3 w - -...</td>\n",
       "      <td>-576</td>\n",
       "    </tr>\n",
       "  </tbody>\n",
       "</table>\n",
       "<p>3960759 rows × 2 columns</p>\n",
       "</div>"
      ],
      "text/plain": [
       "                                                       FEN  Evaluation\n",
       "0        r2q1rk1/pb3pbp/1ppp1np1/2nPp3/4P3/2P1B2P/PPBNN...          16\n",
       "1        r7/ppQ1n2p/2n1k1p1/1N1p1q2/1P1P4/2P3P1/P7/2K5 ...        -929\n",
       "2        r1bq1rk1/ppp1bppp/2n2n2/3Pp3/2B5/2PP1N1P/PP3PP...           4\n",
       "3                6k1/R2b2r1/8/7R/2PPP3/8/7P/5K2 b - - 0 42         546\n",
       "4        r4r2/pp4pp/k1nQ1q2/5P2/2B5/8/P5PP/1R3RK1 b - -...         684\n",
       "...                                                    ...         ...\n",
       "1980494  rnb1k2r/pp3ppp/4pn2/3pB3/8/P2PqN2/2PKPbPP/RN1Q...        -402\n",
       "1980495  6R1/pq1k1p2/1p1pp3/8/8/1P5r/P1PPQP1P/R5K1 w - ...         641\n",
       "1980496  1r3rk1/pp4p1/1qn4p/4pp2/8/2NPPNP1/PP1Q1KbP/R7 ...        -357\n",
       "1980497  rnb1k1r1/pp3pBp/2pqp1p1/3P4/8/P1N2N2/1PP2PPP/R...         686\n",
       "1980498  r1b2k2/6pp/3p4/3P1p2/ppp2P2/7B/4K1PP/4R3 w - -...        -576\n",
       "\n",
       "[3960759 rows x 2 columns]"
      ]
     },
     "execution_count": 2,
     "metadata": {},
     "output_type": "execute_result"
    }
   ],
   "source": [
    "data01 = pd.read_csv('/home/suneel/Desktop/chess-engine/Data/Data Lake/Chess_1.csv')\n",
    "data02 = pd.read_csv('/home/suneel/Desktop/chess-engine/Data/Data Lake/Chess_2.csv')\n",
    "data03 = pd.concat([data01,data02],axis=0)\n",
    "data03"
   ]
  },
  {
   "cell_type": "code",
   "execution_count": 3,
   "metadata": {},
   "outputs": [],
   "source": [
    "data03 = data03.reset_index()"
   ]
  },
  {
   "cell_type": "code",
   "execution_count": 45,
   "metadata": {},
   "outputs": [
    {
     "name": "stdout",
     "output_type": "stream",
     "text": [
      "mean :  13.409747727645131\n",
      "std :  588.6268786929631\n"
     ]
    },
    {
     "data": {
      "text/html": [
       "<div>\n",
       "<style scoped>\n",
       "    .dataframe tbody tr th:only-of-type {\n",
       "        vertical-align: middle;\n",
       "    }\n",
       "\n",
       "    .dataframe tbody tr th {\n",
       "        vertical-align: top;\n",
       "    }\n",
       "\n",
       "    .dataframe thead th {\n",
       "        text-align: right;\n",
       "    }\n",
       "</style>\n",
       "<table border=\"1\" class=\"dataframe\">\n",
       "  <thead>\n",
       "    <tr style=\"text-align: right;\">\n",
       "      <th></th>\n",
       "      <th>index</th>\n",
       "      <th>FEN</th>\n",
       "      <th>Evaluation</th>\n",
       "      <th>Evaluation_std</th>\n",
       "    </tr>\n",
       "  </thead>\n",
       "  <tbody>\n",
       "    <tr>\n",
       "      <th>0</th>\n",
       "      <td>0</td>\n",
       "      <td>r2q1rk1/pb3pbp/1ppp1np1/2nPp3/4P3/2P1B2P/PPBNN...</td>\n",
       "      <td>16</td>\n",
       "      <td>0.004400</td>\n",
       "    </tr>\n",
       "    <tr>\n",
       "      <th>1</th>\n",
       "      <td>1</td>\n",
       "      <td>r7/ppQ1n2p/2n1k1p1/1N1p1q2/1P1P4/2P3P1/P7/2K5 ...</td>\n",
       "      <td>-929</td>\n",
       "      <td>-1.601031</td>\n",
       "    </tr>\n",
       "    <tr>\n",
       "      <th>2</th>\n",
       "      <td>2</td>\n",
       "      <td>r1bq1rk1/ppp1bppp/2n2n2/3Pp3/2B5/2PP1N1P/PP3PP...</td>\n",
       "      <td>4</td>\n",
       "      <td>-0.015986</td>\n",
       "    </tr>\n",
       "    <tr>\n",
       "      <th>3</th>\n",
       "      <td>3</td>\n",
       "      <td>6k1/R2b2r1/8/7R/2PPP3/8/7P/5K2 b - - 0 42</td>\n",
       "      <td>546</td>\n",
       "      <td>0.904801</td>\n",
       "    </tr>\n",
       "    <tr>\n",
       "      <th>4</th>\n",
       "      <td>4</td>\n",
       "      <td>r4r2/pp4pp/k1nQ1q2/5P2/2B5/8/P5PP/1R3RK1 b - -...</td>\n",
       "      <td>684</td>\n",
       "      <td>1.139245</td>\n",
       "    </tr>\n",
       "    <tr>\n",
       "      <th>...</th>\n",
       "      <td>...</td>\n",
       "      <td>...</td>\n",
       "      <td>...</td>\n",
       "      <td>...</td>\n",
       "    </tr>\n",
       "    <tr>\n",
       "      <th>3960754</th>\n",
       "      <td>1980494</td>\n",
       "      <td>rnb1k2r/pp3ppp/4pn2/3pB3/8/P2PqN2/2PKPbPP/RN1Q...</td>\n",
       "      <td>-402</td>\n",
       "      <td>-0.705727</td>\n",
       "    </tr>\n",
       "    <tr>\n",
       "      <th>3960755</th>\n",
       "      <td>1980495</td>\n",
       "      <td>6R1/pq1k1p2/1p1pp3/8/8/1P5r/P1PPQP1P/R5K1 w - ...</td>\n",
       "      <td>641</td>\n",
       "      <td>1.066194</td>\n",
       "    </tr>\n",
       "    <tr>\n",
       "      <th>3960756</th>\n",
       "      <td>1980496</td>\n",
       "      <td>1r3rk1/pp4p1/1qn4p/4pp2/8/2NPPNP1/PP1Q1KbP/R7 ...</td>\n",
       "      <td>-357</td>\n",
       "      <td>-0.629278</td>\n",
       "    </tr>\n",
       "    <tr>\n",
       "      <th>3960757</th>\n",
       "      <td>1980497</td>\n",
       "      <td>rnb1k1r1/pp3pBp/2pqp1p1/3P4/8/P1N2N2/1PP2PPP/R...</td>\n",
       "      <td>686</td>\n",
       "      <td>1.142643</td>\n",
       "    </tr>\n",
       "    <tr>\n",
       "      <th>3960758</th>\n",
       "      <td>1980498</td>\n",
       "      <td>r1b2k2/6pp/3p4/3P1p2/ppp2P2/7B/4K1PP/4R3 w - -...</td>\n",
       "      <td>-576</td>\n",
       "      <td>-1.001330</td>\n",
       "    </tr>\n",
       "  </tbody>\n",
       "</table>\n",
       "<p>3960759 rows × 4 columns</p>\n",
       "</div>"
      ],
      "text/plain": [
       "           index                                                FEN  \\\n",
       "0              0  r2q1rk1/pb3pbp/1ppp1np1/2nPp3/4P3/2P1B2P/PPBNN...   \n",
       "1              1  r7/ppQ1n2p/2n1k1p1/1N1p1q2/1P1P4/2P3P1/P7/2K5 ...   \n",
       "2              2  r1bq1rk1/ppp1bppp/2n2n2/3Pp3/2B5/2PP1N1P/PP3PP...   \n",
       "3              3          6k1/R2b2r1/8/7R/2PPP3/8/7P/5K2 b - - 0 42   \n",
       "4              4  r4r2/pp4pp/k1nQ1q2/5P2/2B5/8/P5PP/1R3RK1 b - -...   \n",
       "...          ...                                                ...   \n",
       "3960754  1980494  rnb1k2r/pp3ppp/4pn2/3pB3/8/P2PqN2/2PKPbPP/RN1Q...   \n",
       "3960755  1980495  6R1/pq1k1p2/1p1pp3/8/8/1P5r/P1PPQP1P/R5K1 w - ...   \n",
       "3960756  1980496  1r3rk1/pp4p1/1qn4p/4pp2/8/2NPPNP1/PP1Q1KbP/R7 ...   \n",
       "3960757  1980497  rnb1k1r1/pp3pBp/2pqp1p1/3P4/8/P1N2N2/1PP2PPP/R...   \n",
       "3960758  1980498  r1b2k2/6pp/3p4/3P1p2/ppp2P2/7B/4K1PP/4R3 w - -...   \n",
       "\n",
       "         Evaluation  Evaluation_std  \n",
       "0                16        0.004400  \n",
       "1              -929       -1.601031  \n",
       "2                 4       -0.015986  \n",
       "3               546        0.904801  \n",
       "4               684        1.139245  \n",
       "...             ...             ...  \n",
       "3960754        -402       -0.705727  \n",
       "3960755         641        1.066194  \n",
       "3960756        -357       -0.629278  \n",
       "3960757         686        1.142643  \n",
       "3960758        -576       -1.001330  \n",
       "\n",
       "[3960759 rows x 4 columns]"
      ]
     },
     "execution_count": 45,
     "metadata": {},
     "output_type": "execute_result"
    }
   ],
   "source": [
    "data04 = data03.copy()\n",
    "mean = data04['Evaluation'].mean()\n",
    "std = data04['Evaluation'].std()\n",
    "data04['Evaluation_std'] = (data04['Evaluation'] - mean) / std\n",
    "print(\"mean : \",mean)\n",
    "print(\"std : \",std)\n",
    "data04"
   ]
  },
  {
   "cell_type": "code",
   "execution_count": 64,
   "metadata": {},
   "outputs": [],
   "source": [
    "import numpy as np\n",
    "def encoding(fen) :\n",
    "    '''\n",
    "    a (64 + (8)) * 1 vector\n",
    "    ''' \n",
    "    power = {\n",
    "        'K' : 100,'k' : -100,'P' : 1,'p' : -1,'B' : 3,'b' : -3,'N' : 3,'n' : -3,'R' :5,'r' : '-5','Q' : 9,'q' : -9 \n",
    "    }\n",
    "    position,active,castling,enpassant,halfmove,fullmove = fen.split(' ')\n",
    "    encoded = np.zeros((72,1))\n",
    "    ranks = position.split('/')\n",
    "    ind = 0\n",
    "    for rank in ranks :\n",
    "        j = 0\n",
    "        while j < len(rank) :\n",
    "            if rank[j] < 'A' :\n",
    "                ind += int(rank[j])\n",
    "            else :\n",
    "                encoded[ind] = power[rank[j]]\n",
    "                ind += 1\n",
    "            j+=1\n",
    "    encoded[ind] = 1 if active == 'w' else -1\n",
    "    ind += 1\n",
    "    for i in castling :\n",
    "        if i != '-' :\n",
    "            encoded[ind] = 1\n",
    "        ind += 1\n",
    "    #print(ind)\n",
    "    encoded[ind] = int(halfmove)\n",
    "    encoded[ind+1] = int(fullmove)\n",
    "    encoded[ind+2] = 0 if enpassant == '-' else ((ord(enpassant[0]) - ord('a'))*8 + int(enpassant[1]) - 1) \n",
    "    return encoded\n"
   ]
  },
  {
   "cell_type": "code",
   "execution_count": 65,
   "metadata": {},
   "outputs": [
    {
     "name": "stdout",
     "output_type": "stream",
     "text": [
      "[[  -5.]\n",
      " [  -3.]\n",
      " [  -3.]\n",
      " [  -9.]\n",
      " [-100.]\n",
      " [  -3.]\n",
      " [  -3.]\n",
      " [  -5.]\n",
      " [  -1.]\n",
      " [  -1.]\n",
      " [  -1.]\n",
      " [  -1.]\n",
      " [  -1.]\n",
      " [  -1.]\n",
      " [  -1.]\n",
      " [  -1.]\n",
      " [   0.]\n",
      " [   0.]\n",
      " [   0.]\n",
      " [   0.]\n",
      " [   0.]\n",
      " [   0.]\n",
      " [   0.]\n",
      " [   0.]\n",
      " [   0.]\n",
      " [   0.]\n",
      " [   0.]\n",
      " [   0.]\n",
      " [   0.]\n",
      " [   0.]\n",
      " [   0.]\n",
      " [   0.]\n",
      " [   0.]\n",
      " [   0.]\n",
      " [   0.]\n",
      " [   0.]\n",
      " [   0.]\n",
      " [   0.]\n",
      " [   0.]\n",
      " [   0.]\n",
      " [   0.]\n",
      " [   0.]\n",
      " [   0.]\n",
      " [   0.]\n",
      " [   0.]\n",
      " [   0.]\n",
      " [   0.]\n",
      " [   0.]\n",
      " [   1.]\n",
      " [   1.]\n",
      " [   1.]\n",
      " [   1.]\n",
      " [   1.]\n",
      " [   1.]\n",
      " [   1.]\n",
      " [   1.]\n",
      " [   5.]\n",
      " [   3.]\n",
      " [   3.]\n",
      " [   9.]\n",
      " [ 100.]\n",
      " [   3.]\n",
      " [   3.]\n",
      " [   5.]\n",
      " [   1.]\n",
      " [   1.]\n",
      " [   1.]\n",
      " [   1.]\n",
      " [   1.]\n",
      " [   0.]\n",
      " [   1.]\n",
      " [   0.]]\n"
     ]
    }
   ],
   "source": [
    "fen = 'rnbqkbnr/pppppppp/8/8/8/8/PPPPPPPP/RNBQKBNR w KQkq - 0 1'\n",
    "#print(fen.split(' '))\n",
    "print(encoding(fen))"
   ]
  },
  {
   "cell_type": "code",
   "execution_count": 77,
   "metadata": {},
   "outputs": [],
   "source": [
    "import torch\n",
    "import torch.nn as nn\n",
    "model = nn.Sequential(\n",
    "    nn.Linear(72,256),\n",
    "    nn.BatchNorm1d(256),\n",
    "    nn.ReLU(),\n",
    "\n",
    "    nn.Linear(256,256),\n",
    "    nn.BatchNorm1d(256),\n",
    "    nn.ReLU(),\n",
    "\n",
    "    nn.Linear(256,256),\n",
    "    nn.BatchNorm1d(256),\n",
    "    nn.ReLU(),\n",
    "\n",
    "    nn.Linear(256,256),\n",
    "    nn.BatchNorm1d(256),\n",
    "    nn.ReLU(),\n",
    "\n",
    "    nn.Linear(256,1)\n",
    ")"
   ]
  },
  {
   "cell_type": "code",
   "execution_count": 78,
   "metadata": {},
   "outputs": [
    {
     "name": "stdout",
     "output_type": "stream",
     "text": [
      "Sequential(\n",
      "  (0): Linear(in_features=72, out_features=256, bias=True)\n",
      "  (1): BatchNorm1d(256, eps=1e-05, momentum=0.1, affine=True, track_running_stats=True)\n",
      "  (2): ReLU()\n",
      "  (3): Linear(in_features=256, out_features=256, bias=True)\n",
      "  (4): BatchNorm1d(256, eps=1e-05, momentum=0.1, affine=True, track_running_stats=True)\n",
      "  (5): ReLU()\n",
      "  (6): Linear(in_features=256, out_features=256, bias=True)\n",
      "  (7): BatchNorm1d(256, eps=1e-05, momentum=0.1, affine=True, track_running_stats=True)\n",
      "  (8): ReLU()\n",
      "  (9): Linear(in_features=256, out_features=256, bias=True)\n",
      "  (10): BatchNorm1d(256, eps=1e-05, momentum=0.1, affine=True, track_running_stats=True)\n",
      "  (11): ReLU()\n",
      "  (12): Linear(in_features=256, out_features=1, bias=True)\n",
      ")\n"
     ]
    }
   ],
   "source": [
    "print(model)"
   ]
  },
  {
   "cell_type": "code",
   "execution_count": 79,
   "metadata": {},
   "outputs": [
    {
     "name": "stdout",
     "output_type": "stream",
     "text": [
      "torch.Size([72])\n"
     ]
    }
   ],
   "source": [
    "t1 = torch.tensor(encoding(fen)).squeeze()\n",
    "print(t1.shape)"
   ]
  },
  {
   "cell_type": "code",
   "execution_count": 85,
   "metadata": {},
   "outputs": [],
   "source": [
    "from torch.utils.data import Dataset,DataLoader\n",
    "import pandas as pd\n",
    "\n",
    "class Chessloader(Dataset) :\n",
    "    def __init__(self,df) :\n",
    "        self.df = df\n",
    "    def __len__(self) :\n",
    "        return len(self.df)\n",
    "    def __getitem__(self,ind) :\n",
    "        row = self.df.iloc[ind]\n",
    "        tensor = torch.tensor(encoding(row['FEN']),dtype=torch.float32).squeeze()\n",
    "        target = torch.tensor(row['Evaluation_std'], dtype=torch.float32)\n",
    "        return tensor,target\n"
   ]
  },
  {
   "cell_type": "code",
   "execution_count": 86,
   "metadata": {},
   "outputs": [],
   "source": [
    "from sklearn.model_selection import train_test_split\n",
    "train_data,test_data = train_test_split(data04.sample(2000000,random_state=42),test_size=0.25,random_state=42)"
   ]
  },
  {
   "cell_type": "code",
   "execution_count": 87,
   "metadata": {},
   "outputs": [],
   "source": [
    "train_set = Chessloader(train_data)\n",
    "test_set = Chessloader(test_data)\n",
    "train_loader = DataLoader(train_set,batch_size=32,shuffle=False)\n",
    "test_loader  = DataLoader(test_set,batch_size=32,shuffle=False)"
   ]
  },
  {
   "cell_type": "code",
   "execution_count": 94,
   "metadata": {},
   "outputs": [],
   "source": [
    "import torch\n",
    "import torch.optim as optim\n",
    "import torch.nn as nn\n",
    "from tqdm import tqdm  # Import tqdm for the progress bar\n",
    "import os\n",
    "\n",
    "def train(train_loader, test_loader, model, num_epochs=20, lr=0.001, save_path=\"/home/suneel/Desktop/chess-engine/models/basemodel1/\"):\n",
    "    # Define the loss function and the optimizer\n",
    "    loss_fn = nn.MSELoss()  # Use MSE loss for regression tasks\n",
    "    optimizer = optim.AdamW(model.parameters(), lr=lr)\n",
    "\n",
    "    # Device configuration (move the model to GPU if available)\n",
    "    device = torch.device('cuda' if torch.cuda.is_available() else 'cpu')\n",
    "    model.to(device)\n",
    "\n",
    "    # Create save directory if it doesn't exist\n",
    "    if not os.path.exists(save_path):\n",
    "        os.makedirs(save_path)\n",
    "\n",
    "    # Lists to store the losses\n",
    "    train_losses = []\n",
    "    test_losses = []\n",
    "\n",
    "    # Variable to track the best test loss\n",
    "    best_test_loss = float('inf')\n",
    "\n",
    "    # Training loop\n",
    "    for epoch in range(num_epochs):\n",
    "        model.train()  # Set the model to training mode\n",
    "        running_train_loss = 0.0\n",
    "        \n",
    "        # Use tqdm to display a progress bar for the training loop\n",
    "        for inputs, targets in tqdm(train_loader, desc=f\"Epoch {epoch+1}/{num_epochs} - Training\", leave=False):\n",
    "            inputs, targets = inputs.to(device), targets.to(device)\n",
    "            targets = targets.unsqueeze(-1)  # Ensure the target is the correct shape\n",
    "\n",
    "            # Zero the gradients\n",
    "            optimizer.zero_grad()\n",
    "\n",
    "            # Forward pass\n",
    "            outputs = model(inputs)\n",
    "\n",
    "            # Compute loss\n",
    "            loss = loss_fn(outputs, targets)\n",
    "\n",
    "            # Backward pass and optimization\n",
    "            loss.backward()\n",
    "            optimizer.step()\n",
    "\n",
    "            running_train_loss += loss.item()\n",
    "\n",
    "        # Calculate average training loss for this epoch\n",
    "        avg_train_loss = running_train_loss / len(train_loader)\n",
    "        train_losses.append(avg_train_loss)\n",
    "        print(f\"Epoch [{epoch+1}/{num_epochs}], Training Loss: {avg_train_loss:.4f}\")\n",
    "\n",
    "        # Evaluate on the test set\n",
    "        model.eval()  # Set the model to evaluation mode\n",
    "        with torch.no_grad():\n",
    "            running_test_loss = 0.0\n",
    "            all_predictions = []\n",
    "            all_actuals = []\n",
    "            for inputs, targets in tqdm(test_loader, desc=f\"Epoch {epoch+1}/{num_epochs} - Testing\", leave=False):\n",
    "                inputs, targets = inputs.to(device), targets.to(device)\n",
    "\n",
    "                # Forward pass\n",
    "                outputs = model(inputs)\n",
    "\n",
    "                # Store predictions and actuals for later use\n",
    "                all_predictions.append(outputs.cpu().numpy())\n",
    "                all_actuals.append(targets.cpu().numpy())\n",
    "\n",
    "                # Compute loss\n",
    "                loss = loss_fn(outputs, targets)\n",
    "                running_test_loss += loss.item()\n",
    "\n",
    "            avg_test_loss = running_test_loss / len(test_loader)\n",
    "            test_losses.append(avg_test_loss)\n",
    "            print(f\"Epoch [{epoch+1}/{num_epochs}], Test Loss: {avg_test_loss:.4f}\")\n",
    "\n",
    "            # Flatten the lists of predictions and actuals\n",
    "            all_predictions = np.concatenate(all_predictions, axis=0)\n",
    "            all_actuals = np.concatenate(all_actuals, axis=0)\n",
    "\n",
    "            # Print the last 5 predictions and actuals from the test set\n",
    "            print(\"\\nLast 5 Predictions and Actuals:\")\n",
    "            for i in range(5):\n",
    "                print(f\"Predicted: {all_predictions[-(i+1)]}, Actual: {all_actuals[-(i+1)]}\")\n",
    "\n",
    "            # Save the model if the test loss is the best we've seen so far\n",
    "            if avg_test_loss < best_test_loss:\n",
    "                best_test_loss = avg_test_loss\n",
    "                print(f\"Test loss improved, saving model...\")\n",
    "                model_save_path = os.path.join(save_path, f\"best_model_epoch_{epoch+1}.pth\")\n",
    "                torch.save(model.state_dict(), model_save_path)\n",
    "                print(f\"Model saved to {model_save_path}\")\n",
    "\n",
    "    print(\"Training completed.\")\n",
    "    return train_losses, test_losses  # Return the losses for each epoch\n",
    "\n",
    "\n"
   ]
  },
  {
   "cell_type": "code",
   "execution_count": 95,
   "metadata": {},
   "outputs": [
    {
     "name": "stderr",
     "output_type": "stream",
     "text": [
      "                                                                             \r"
     ]
    },
    {
     "name": "stdout",
     "output_type": "stream",
     "text": [
      "Epoch [1/20], Training Loss: 0.4222\n"
     ]
    },
    {
     "name": "stderr",
     "output_type": "stream",
     "text": [
      "                                                                            \r"
     ]
    },
    {
     "name": "stdout",
     "output_type": "stream",
     "text": [
      "Epoch [1/20], Test Loss: 1.6111\n",
      "\n",
      "Last 5 Predictions and Actuals:\n",
      "Predicted: [0.6601286], Actual: 0.8028689622879028\n",
      "Predicted: [0.78201663], Actual: 1.8119971752166748\n",
      "Predicted: [-0.11350755], Actual: 0.08764508366584778\n",
      "Predicted: [-0.9148649], Actual: -1.169517993927002\n",
      "Predicted: [-0.35942832], Actual: -0.7176188826560974\n",
      "Test loss improved, saving model...\n",
      "Model saved to /home/suneel/Desktop/chess-engine/models/basemodel1/best_model_epoch_1.pth\n"
     ]
    },
    {
     "name": "stderr",
     "output_type": "stream",
     "text": [
      "                                                                             \r"
     ]
    },
    {
     "name": "stdout",
     "output_type": "stream",
     "text": [
      "Epoch [2/20], Training Loss: 0.4219\n"
     ]
    },
    {
     "name": "stderr",
     "output_type": "stream",
     "text": [
      "                                                                            \r"
     ]
    },
    {
     "name": "stdout",
     "output_type": "stream",
     "text": [
      "Epoch [2/20], Test Loss: 1.6328\n",
      "\n",
      "Last 5 Predictions and Actuals:\n",
      "Predicted: [0.70395535], Actual: 0.8028689622879028\n",
      "Predicted: [0.82400197], Actual: 1.8119971752166748\n",
      "Predicted: [-0.14277957], Actual: 0.08764508366584778\n",
      "Predicted: [-0.93730474], Actual: -1.169517993927002\n",
      "Predicted: [-0.31030178], Actual: -0.7176188826560974\n"
     ]
    },
    {
     "name": "stderr",
     "output_type": "stream",
     "text": [
      "                                                                             \r"
     ]
    },
    {
     "name": "stdout",
     "output_type": "stream",
     "text": [
      "Epoch [3/20], Training Loss: 0.4216\n"
     ]
    },
    {
     "name": "stderr",
     "output_type": "stream",
     "text": [
      "                                                                            \r"
     ]
    },
    {
     "name": "stdout",
     "output_type": "stream",
     "text": [
      "Epoch [3/20], Test Loss: 1.5811\n",
      "\n",
      "Last 5 Predictions and Actuals:\n",
      "Predicted: [0.6675401], Actual: 0.8028689622879028\n",
      "Predicted: [0.80534136], Actual: 1.8119971752166748\n",
      "Predicted: [-0.08555233], Actual: 0.08764508366584778\n",
      "Predicted: [-0.8517711], Actual: -1.169517993927002\n",
      "Predicted: [-0.21703942], Actual: -0.7176188826560974\n",
      "Test loss improved, saving model...\n",
      "Model saved to /home/suneel/Desktop/chess-engine/models/basemodel1/best_model_epoch_3.pth\n"
     ]
    },
    {
     "name": "stderr",
     "output_type": "stream",
     "text": [
      "                                                                             \r"
     ]
    },
    {
     "name": "stdout",
     "output_type": "stream",
     "text": [
      "Epoch [4/20], Training Loss: 0.4214\n"
     ]
    },
    {
     "name": "stderr",
     "output_type": "stream",
     "text": [
      "                                                                            \r"
     ]
    },
    {
     "name": "stdout",
     "output_type": "stream",
     "text": [
      "Epoch [4/20], Test Loss: 1.6464\n",
      "\n",
      "Last 5 Predictions and Actuals:\n",
      "Predicted: [0.70041156], Actual: 0.8028689622879028\n",
      "Predicted: [0.7133979], Actual: 1.8119971752166748\n",
      "Predicted: [-0.04186495], Actual: 0.08764508366584778\n",
      "Predicted: [-0.8306678], Actual: -1.169517993927002\n",
      "Predicted: [-0.30823538], Actual: -0.7176188826560974\n"
     ]
    },
    {
     "name": "stderr",
     "output_type": "stream",
     "text": [
      "                                                                             \r"
     ]
    },
    {
     "name": "stdout",
     "output_type": "stream",
     "text": [
      "Epoch [5/20], Training Loss: 0.4214\n"
     ]
    },
    {
     "name": "stderr",
     "output_type": "stream",
     "text": [
      "                                                                            \r"
     ]
    },
    {
     "name": "stdout",
     "output_type": "stream",
     "text": [
      "Epoch [5/20], Test Loss: 1.6247\n",
      "\n",
      "Last 5 Predictions and Actuals:\n",
      "Predicted: [0.7587915], Actual: 0.8028689622879028\n",
      "Predicted: [0.89155585], Actual: 1.8119971752166748\n",
      "Predicted: [-0.05498715], Actual: 0.08764508366584778\n",
      "Predicted: [-0.8328399], Actual: -1.169517993927002\n",
      "Predicted: [-0.27603176], Actual: -0.7176188826560974\n"
     ]
    },
    {
     "name": "stderr",
     "output_type": "stream",
     "text": [
      "                                                                             \r"
     ]
    },
    {
     "name": "stdout",
     "output_type": "stream",
     "text": [
      "Epoch [6/20], Training Loss: 0.4207\n"
     ]
    },
    {
     "name": "stderr",
     "output_type": "stream",
     "text": [
      "                                                                            \r"
     ]
    },
    {
     "name": "stdout",
     "output_type": "stream",
     "text": [
      "Epoch [6/20], Test Loss: 1.6081\n",
      "\n",
      "Last 5 Predictions and Actuals:\n",
      "Predicted: [0.8304366], Actual: 0.8028689622879028\n",
      "Predicted: [0.85901695], Actual: 1.8119971752166748\n",
      "Predicted: [-0.06073225], Actual: 0.08764508366584778\n",
      "Predicted: [-0.8025801], Actual: -1.169517993927002\n",
      "Predicted: [-0.3223837], Actual: -0.7176188826560974\n"
     ]
    },
    {
     "name": "stderr",
     "output_type": "stream",
     "text": [
      "                                                                             \r"
     ]
    },
    {
     "name": "stdout",
     "output_type": "stream",
     "text": [
      "Epoch [7/20], Training Loss: 0.4204\n"
     ]
    },
    {
     "name": "stderr",
     "output_type": "stream",
     "text": [
      "                                                                            \r"
     ]
    },
    {
     "name": "stdout",
     "output_type": "stream",
     "text": [
      "Epoch [7/20], Test Loss: 1.6157\n",
      "\n",
      "Last 5 Predictions and Actuals:\n",
      "Predicted: [0.80941963], Actual: 0.8028689622879028\n",
      "Predicted: [0.81537277], Actual: 1.8119971752166748\n",
      "Predicted: [-0.05170143], Actual: 0.08764508366584778\n",
      "Predicted: [-0.83548456], Actual: -1.169517993927002\n",
      "Predicted: [-0.18595193], Actual: -0.7176188826560974\n"
     ]
    },
    {
     "name": "stderr",
     "output_type": "stream",
     "text": [
      "                                                                             \r"
     ]
    },
    {
     "name": "stdout",
     "output_type": "stream",
     "text": [
      "Epoch [8/20], Training Loss: 0.4201\n"
     ]
    },
    {
     "name": "stderr",
     "output_type": "stream",
     "text": [
      "                                                                            \r"
     ]
    },
    {
     "name": "stdout",
     "output_type": "stream",
     "text": [
      "Epoch [8/20], Test Loss: 1.6037\n",
      "\n",
      "Last 5 Predictions and Actuals:\n",
      "Predicted: [0.8465509], Actual: 0.8028689622879028\n",
      "Predicted: [0.8678343], Actual: 1.8119971752166748\n",
      "Predicted: [-0.12798828], Actual: 0.08764508366584778\n",
      "Predicted: [-0.8916731], Actual: -1.169517993927002\n",
      "Predicted: [-0.20205712], Actual: -0.7176188826560974\n"
     ]
    },
    {
     "name": "stderr",
     "output_type": "stream",
     "text": [
      "                                                                             \r"
     ]
    },
    {
     "name": "stdout",
     "output_type": "stream",
     "text": [
      "Epoch [9/20], Training Loss: 0.4202\n"
     ]
    },
    {
     "name": "stderr",
     "output_type": "stream",
     "text": [
      "                                                                            \r"
     ]
    },
    {
     "name": "stdout",
     "output_type": "stream",
     "text": [
      "Epoch [9/20], Test Loss: 1.6025\n",
      "\n",
      "Last 5 Predictions and Actuals:\n",
      "Predicted: [0.9261304], Actual: 0.8028689622879028\n",
      "Predicted: [0.90940684], Actual: 1.8119971752166748\n",
      "Predicted: [-0.03742542], Actual: 0.08764508366584778\n",
      "Predicted: [-0.8638388], Actual: -1.169517993927002\n",
      "Predicted: [-0.25558734], Actual: -0.7176188826560974\n"
     ]
    },
    {
     "name": "stderr",
     "output_type": "stream",
     "text": [
      "                                                                              \r"
     ]
    },
    {
     "name": "stdout",
     "output_type": "stream",
     "text": [
      "Epoch [10/20], Training Loss: 0.4204\n"
     ]
    },
    {
     "name": "stderr",
     "output_type": "stream",
     "text": [
      "                                                                             \r"
     ]
    },
    {
     "name": "stdout",
     "output_type": "stream",
     "text": [
      "Epoch [10/20], Test Loss: 1.6153\n",
      "\n",
      "Last 5 Predictions and Actuals:\n",
      "Predicted: [0.8621748], Actual: 0.8028689622879028\n",
      "Predicted: [0.9105701], Actual: 1.8119971752166748\n",
      "Predicted: [-0.02322598], Actual: 0.08764508366584778\n",
      "Predicted: [-0.85734636], Actual: -1.169517993927002\n",
      "Predicted: [-0.1755627], Actual: -0.7176188826560974\n"
     ]
    },
    {
     "name": "stderr",
     "output_type": "stream",
     "text": [
      "                                                                              \r"
     ]
    },
    {
     "name": "stdout",
     "output_type": "stream",
     "text": [
      "Epoch [11/20], Training Loss: 0.4197\n"
     ]
    },
    {
     "name": "stderr",
     "output_type": "stream",
     "text": [
      "                                                                             \r"
     ]
    },
    {
     "name": "stdout",
     "output_type": "stream",
     "text": [
      "Epoch [11/20], Test Loss: 1.6100\n",
      "\n",
      "Last 5 Predictions and Actuals:\n",
      "Predicted: [0.8962506], Actual: 0.8028689622879028\n",
      "Predicted: [0.82054275], Actual: 1.8119971752166748\n",
      "Predicted: [-0.04005127], Actual: 0.08764508366584778\n",
      "Predicted: [-0.8789534], Actual: -1.169517993927002\n",
      "Predicted: [-0.232619], Actual: -0.7176188826560974\n"
     ]
    },
    {
     "name": "stderr",
     "output_type": "stream",
     "text": [
      "                                                                              \r"
     ]
    },
    {
     "name": "stdout",
     "output_type": "stream",
     "text": [
      "Epoch [12/20], Training Loss: 0.4203\n"
     ]
    },
    {
     "name": "stderr",
     "output_type": "stream",
     "text": [
      "                                                                             \r"
     ]
    },
    {
     "name": "stdout",
     "output_type": "stream",
     "text": [
      "Epoch [12/20], Test Loss: 1.6409\n",
      "\n",
      "Last 5 Predictions and Actuals:\n",
      "Predicted: [0.9091405], Actual: 0.8028689622879028\n",
      "Predicted: [0.9384093], Actual: 1.8119971752166748\n",
      "Predicted: [-0.01269395], Actual: 0.08764508366584778\n",
      "Predicted: [-0.7846356], Actual: -1.169517993927002\n",
      "Predicted: [-0.3608622], Actual: -0.7176188826560974\n"
     ]
    },
    {
     "name": "stderr",
     "output_type": "stream",
     "text": [
      "                                                                              \r"
     ]
    },
    {
     "name": "stdout",
     "output_type": "stream",
     "text": [
      "Epoch [13/20], Training Loss: 0.4201\n"
     ]
    },
    {
     "name": "stderr",
     "output_type": "stream",
     "text": [
      "                                                                             \r"
     ]
    },
    {
     "name": "stdout",
     "output_type": "stream",
     "text": [
      "Epoch [13/20], Test Loss: 1.6300\n",
      "\n",
      "Last 5 Predictions and Actuals:\n",
      "Predicted: [0.8814567], Actual: 0.8028689622879028\n",
      "Predicted: [0.85717314], Actual: 1.8119971752166748\n",
      "Predicted: [-0.08587652], Actual: 0.08764508366584778\n",
      "Predicted: [-0.84575975], Actual: -1.169517993927002\n",
      "Predicted: [-0.23894325], Actual: -0.7176188826560974\n"
     ]
    },
    {
     "name": "stderr",
     "output_type": "stream",
     "text": [
      "                                                                              \r"
     ]
    },
    {
     "name": "stdout",
     "output_type": "stream",
     "text": [
      "Epoch [14/20], Training Loss: 0.4200\n"
     ]
    },
    {
     "name": "stderr",
     "output_type": "stream",
     "text": [
      "                                                                             \r"
     ]
    },
    {
     "name": "stdout",
     "output_type": "stream",
     "text": [
      "Epoch [14/20], Test Loss: 1.5871\n",
      "\n",
      "Last 5 Predictions and Actuals:\n",
      "Predicted: [0.75988275], Actual: 0.8028689622879028\n",
      "Predicted: [0.92647684], Actual: 1.8119971752166748\n",
      "Predicted: [-0.05205538], Actual: 0.08764508366584778\n",
      "Predicted: [-0.8495925], Actual: -1.169517993927002\n",
      "Predicted: [-0.29993057], Actual: -0.7176188826560974\n"
     ]
    },
    {
     "name": "stderr",
     "output_type": "stream",
     "text": [
      "                                                                              \r"
     ]
    },
    {
     "name": "stdout",
     "output_type": "stream",
     "text": [
      "Epoch [15/20], Training Loss: 0.4205\n"
     ]
    },
    {
     "name": "stderr",
     "output_type": "stream",
     "text": [
      "                                                                             \r"
     ]
    },
    {
     "name": "stdout",
     "output_type": "stream",
     "text": [
      "Epoch [15/20], Test Loss: 1.5889\n",
      "\n",
      "Last 5 Predictions and Actuals:\n",
      "Predicted: [0.70885634], Actual: 0.8028689622879028\n",
      "Predicted: [0.8458899], Actual: 1.8119971752166748\n",
      "Predicted: [-0.06451431], Actual: 0.08764508366584778\n",
      "Predicted: [-0.8201944], Actual: -1.169517993927002\n",
      "Predicted: [-0.32032079], Actual: -0.7176188826560974\n"
     ]
    },
    {
     "name": "stderr",
     "output_type": "stream",
     "text": [
      "                                                                              \r"
     ]
    },
    {
     "name": "stdout",
     "output_type": "stream",
     "text": [
      "Epoch [16/20], Training Loss: 0.4207\n"
     ]
    },
    {
     "name": "stderr",
     "output_type": "stream",
     "text": [
      "                                                                             \r"
     ]
    },
    {
     "name": "stdout",
     "output_type": "stream",
     "text": [
      "Epoch [16/20], Test Loss: 1.5886\n",
      "\n",
      "Last 5 Predictions and Actuals:\n",
      "Predicted: [0.79797435], Actual: 0.8028689622879028\n",
      "Predicted: [0.8542448], Actual: 1.8119971752166748\n",
      "Predicted: [-0.00137383], Actual: 0.08764508366584778\n",
      "Predicted: [-0.73778224], Actual: -1.169517993927002\n",
      "Predicted: [-0.22910872], Actual: -0.7176188826560974\n"
     ]
    },
    {
     "name": "stderr",
     "output_type": "stream",
     "text": [
      "                                                                              \r"
     ]
    },
    {
     "name": "stdout",
     "output_type": "stream",
     "text": [
      "Epoch [17/20], Training Loss: 0.4208\n"
     ]
    },
    {
     "name": "stderr",
     "output_type": "stream",
     "text": [
      "                                                                             \r"
     ]
    },
    {
     "name": "stdout",
     "output_type": "stream",
     "text": [
      "Epoch [17/20], Test Loss: 1.5504\n",
      "\n",
      "Last 5 Predictions and Actuals:\n",
      "Predicted: [0.7455523], Actual: 0.8028689622879028\n",
      "Predicted: [0.9694974], Actual: 1.8119971752166748\n",
      "Predicted: [-0.05181129], Actual: 0.08764508366584778\n",
      "Predicted: [-0.89453954], Actual: -1.169517993927002\n",
      "Predicted: [-0.32419246], Actual: -0.7176188826560974\n",
      "Test loss improved, saving model...\n",
      "Model saved to /home/suneel/Desktop/chess-engine/models/basemodel1/best_model_epoch_17.pth\n"
     ]
    },
    {
     "name": "stderr",
     "output_type": "stream",
     "text": [
      "                                                                              \r"
     ]
    },
    {
     "name": "stdout",
     "output_type": "stream",
     "text": [
      "Epoch [18/20], Training Loss: 0.4209\n"
     ]
    },
    {
     "name": "stderr",
     "output_type": "stream",
     "text": [
      "                                                                             \r"
     ]
    },
    {
     "name": "stdout",
     "output_type": "stream",
     "text": [
      "Epoch [18/20], Test Loss: 1.5480\n",
      "\n",
      "Last 5 Predictions and Actuals:\n",
      "Predicted: [0.7514468], Actual: 0.8028689622879028\n",
      "Predicted: [1.0457976], Actual: 1.8119971752166748\n",
      "Predicted: [-0.03082357], Actual: 0.08764508366584778\n",
      "Predicted: [-0.79663724], Actual: -1.169517993927002\n",
      "Predicted: [-0.3571955], Actual: -0.7176188826560974\n",
      "Test loss improved, saving model...\n",
      "Model saved to /home/suneel/Desktop/chess-engine/models/basemodel1/best_model_epoch_18.pth\n"
     ]
    },
    {
     "name": "stderr",
     "output_type": "stream",
     "text": [
      "                                                                              \r"
     ]
    },
    {
     "name": "stdout",
     "output_type": "stream",
     "text": [
      "Epoch [19/20], Training Loss: 0.4208\n"
     ]
    },
    {
     "name": "stderr",
     "output_type": "stream",
     "text": [
      "                                                                             \r"
     ]
    },
    {
     "name": "stdout",
     "output_type": "stream",
     "text": [
      "Epoch [19/20], Test Loss: 1.5746\n",
      "\n",
      "Last 5 Predictions and Actuals:\n",
      "Predicted: [0.68297625], Actual: 0.8028689622879028\n",
      "Predicted: [0.92494094], Actual: 1.8119971752166748\n",
      "Predicted: [-0.00751748], Actual: 0.08764508366584778\n",
      "Predicted: [-0.7934909], Actual: -1.169517993927002\n",
      "Predicted: [-0.272476], Actual: -0.7176188826560974\n"
     ]
    },
    {
     "name": "stderr",
     "output_type": "stream",
     "text": [
      "                                                                              \r"
     ]
    },
    {
     "name": "stdout",
     "output_type": "stream",
     "text": [
      "Epoch [20/20], Training Loss: 0.4205\n"
     ]
    },
    {
     "name": "stderr",
     "output_type": "stream",
     "text": [
      "                                                                             "
     ]
    },
    {
     "name": "stdout",
     "output_type": "stream",
     "text": [
      "Epoch [20/20], Test Loss: 1.5940\n",
      "\n",
      "Last 5 Predictions and Actuals:\n",
      "Predicted: [0.72864074], Actual: 0.8028689622879028\n",
      "Predicted: [0.8897724], Actual: 1.8119971752166748\n",
      "Predicted: [0.06381817], Actual: 0.08764508366584778\n",
      "Predicted: [-0.8207586], Actual: -1.169517993927002\n",
      "Predicted: [-0.2819755], Actual: -0.7176188826560974\n",
      "Training completed.\n"
     ]
    },
    {
     "name": "stderr",
     "output_type": "stream",
     "text": [
      "\r"
     ]
    },
    {
     "data": {
      "text/plain": [
       "([0.42218298639392854,\n",
       "  0.4219494800107479,\n",
       "  0.4215850016284784,\n",
       "  0.4213745679262479,\n",
       "  0.4214122645513217,\n",
       "  0.4206773987111251,\n",
       "  0.42041844150892893,\n",
       "  0.4201096068973541,\n",
       "  0.4202456603913307,\n",
       "  0.42042678244928516,\n",
       "  0.419678909400781,\n",
       "  0.4202597007878621,\n",
       "  0.42005210402234394,\n",
       "  0.4200493460357984,\n",
       "  0.420483204980135,\n",
       "  0.4206784876169364,\n",
       "  0.42076597462558746,\n",
       "  0.42087323514445624,\n",
       "  0.42076975457930565,\n",
       "  0.42054796297629676],\n",
       " [1.611098958919525,\n",
       "  1.6327864430885315,\n",
       "  1.5810879185271263,\n",
       "  1.646381567841053,\n",
       "  1.6246791356306076,\n",
       "  1.6080850962257385,\n",
       "  1.61572068257761,\n",
       "  1.6037245503044129,\n",
       "  1.6024780660734177,\n",
       "  1.6153107302756309,\n",
       "  1.609990381336689,\n",
       "  1.640928614792347,\n",
       "  1.6300130306348801,\n",
       "  1.5871292794246674,\n",
       "  1.5889021974720954,\n",
       "  1.5886252916212082,\n",
       "  1.5504067338705063,\n",
       "  1.5479840978155137,\n",
       "  1.5745727281098365,\n",
       "  1.5939625702962876])"
      ]
     },
     "execution_count": 95,
     "metadata": {},
     "output_type": "execute_result"
    }
   ],
   "source": [
    "train(train_loader,test_loader,model)"
   ]
  },
  {
   "cell_type": "code",
   "execution_count": null,
   "metadata": {},
   "outputs": [],
   "source": []
  }
 ],
 "metadata": {
  "kernelspec": {
   "display_name": "3.11.0",
   "language": "python",
   "name": "python3"
  },
  "language_info": {
   "codemirror_mode": {
    "name": "ipython",
    "version": 3
   },
   "file_extension": ".py",
   "mimetype": "text/x-python",
   "name": "python",
   "nbconvert_exporter": "python",
   "pygments_lexer": "ipython3",
   "version": "3.12.4"
  }
 },
 "nbformat": 4,
 "nbformat_minor": 2
}
